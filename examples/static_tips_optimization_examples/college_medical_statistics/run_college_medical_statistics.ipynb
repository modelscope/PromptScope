{
 "cells": [
  {
   "metadata": {},
   "cell_type": "code",
   "source": [
    "import os\n",
    "import sys\n",
    "import json\n",
    "sys.path.append(\"../../../\")\n",
    "current_file_dir = os.getcwd()\n",
    "\n",
    "\n",
    "from prompt_scope.core.llms.dashscope_llm import DashscopeLLM\n",
    "from prompt_scope.core.optimizer.tips_optimizer.static_tips_optimizer import StaticTipsOptimizer"
   ],
   "id": "initial_id",
   "outputs": [],
   "execution_count": null
  },
  {
   "cell_type": "markdown",
   "id": "abd6ca17-b129-49f8-bb30-d00eb516b9ea",
   "metadata": {},
   "source": [
    "# Step1: Load data"
   ]
  },
  {
   "cell_type": "code",
   "id": "3c8b49bdc2001db8",
   "metadata": {},
   "source": [
    "with open(\"../../data/college_medical_statistics/sample_train_data.jsonl\", \"r\") as f:\n",
    "    train_set = []\n",
    "    for line in f:\n",
    "        train_set.append(json.loads(line))\n",
    "\n",
    "with open(\"../../data/college_medical_statistics/sample_test_data.jsonl\", \"r\") as f:\n",
    "    test_set = []\n",
    "    for line in f:\n",
    "        test_set.append(json.loads(line))\n",
    "\n",
    "with open(\"../../data/college_medical_statistics/init_system_prompt.txt\", \"r\") as f:\n",
    "    init_system_prompt = f.read().strip()"
   ],
   "outputs": [],
   "execution_count": null
  },
  {
   "cell_type": "markdown",
   "id": "23e61aa0-88c4-4d2d-9214-c1cf44aea9e2",
   "metadata": {},
   "source": [
    "# Step2: Define a scoring function"
   ]
  },
  {
   "cell_type": "code",
   "id": "1db056fe-dd2e-4931-87c3-73b6569ae0ae",
   "metadata": {},
   "source": [
    "def is_good_case(prediction, ground_truth):\n",
    "    prediction = prediction.split(\"<answer>\")[-1].split(\"</answer>\")[0].strip()\n",
    "    ground_truth = ground_truth\n",
    "    if ground_truth in prediction:\n",
    "        return True, 1 # Good case, score\n",
    "    else:\n",
    "        return False, 0 # Bad case, score"
   ],
   "outputs": [],
   "execution_count": null
  },
  {
   "cell_type": "markdown",
   "id": "82735d0f-709a-487e-b615-b5d1ca676ef0",
   "metadata": {},
   "source": [
    "# Step3: Run optimizer"
   ]
  },
  {
   "cell_type": "code",
   "id": "0cd90e62-c0cb-4c26-aaf0-a3eef7d652df",
   "metadata": {},
   "source": [
    "infer_llm = DashscopeLLM(model=\"qwen-plus\", temperature=0.0)\n",
    "optim_llm = DashscopeLLM(model=\"qwen-max\", temperature=0.0)"
   ],
   "outputs": [],
   "execution_count": null
  },
  {
   "cell_type": "code",
   "id": "114b45ad-b45b-41aa-8d91-806cc447782c",
   "metadata": {},
   "source": [
    "stg = StaticTipsOptimizer(\n",
    "    init_system_prompt=init_system_prompt,\n",
    "    infer_llm=infer_llm,\n",
    "    optim_llm=optim_llm,\n",
    "    train_set=train_set,\n",
    "    test_set=test_set,\n",
    "    is_good_case_func=is_good_case,\n",
    "    details_save_dir=f\"{current_file_dir}/details_result\",\n",
    "    save_steps = 30,\n",
    "    epoch = 10\n",
    ")\n",
    "optimized_prompt = stg.run()"
   ],
   "outputs": [],
   "execution_count": null
  }
 ],
 "metadata": {
  "kernelspec": {
   "display_name": "Python 3 (ipykernel)",
   "language": "python",
   "name": "python3"
  },
  "language_info": {
   "codemirror_mode": {
    "name": "ipython",
    "version": 3
   },
   "file_extension": ".py",
   "mimetype": "text/x-python",
   "name": "python",
   "nbconvert_exporter": "python",
   "pygments_lexer": "ipython3",
   "version": "3.10.16"
  }
 },
 "nbformat": 4,
 "nbformat_minor": 5
}
